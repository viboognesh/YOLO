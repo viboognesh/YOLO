{
 "cells": [
  {
   "cell_type": "code",
   "execution_count": 23,
   "metadata": {},
   "outputs": [],
   "source": [
    "import os\n",
    "from glob import glob\n",
    "import pandas as pd\n",
    "from functools import reduce\n",
    "from xml.etree import ElementTree as et"
   ]
  },
  {
   "cell_type": "code",
   "execution_count": 24,
   "metadata": {},
   "outputs": [],
   "source": [
    "xml_list = glob(\"./images/data_images/*.xml\")\n",
    "xml_list = list(map(lambda x :x.replace(\"\\\\\",\"/\"),xml_list))\n",
    "# xml_list"
   ]
  },
  {
   "cell_type": "code",
   "execution_count": 25,
   "metadata": {},
   "outputs": [],
   "source": [
    "# extract filename, size(width, height), object(name, xmin, xmax, ymin, ymax)\n",
    "def extract_text(filename):\n",
    "    tree = et.parse(filename)\n",
    "    root = tree.getroot()\n",
    "\n",
    "    # extract filename\n",
    "    image_name = root.find('filename').text\n",
    "\n",
    "    # width and height\n",
    "    width = root.find('size').find('width').text\n",
    "    height = root.find('size').find('height').text\n",
    "\n",
    "    # objects\n",
    "    objects = root.findall('object')\n",
    "    \n",
    "    parser = []\n",
    "    for obj in objects:\n",
    "        name = obj.find(\"name\").text\n",
    "        xmin = obj.find(\"bndbox\").find(\"xmin\").text\n",
    "        xmax = obj.find(\"bndbox\").find(\"xmax\").text\n",
    "        ymin = obj.find(\"bndbox\").find(\"ymin\").text\n",
    "        ymax = obj.find(\"bndbox\").find(\"ymax\").text\n",
    "        parser.append([image_name, width, height, name, xmin, xmax, ymin, ymax])\n",
    "    \n",
    "    return parser"
   ]
  },
  {
   "cell_type": "code",
   "execution_count": 26,
   "metadata": {},
   "outputs": [],
   "source": [
    "parser_all = list(map(extract_text, xml_list))"
   ]
  },
  {
   "cell_type": "code",
   "execution_count": 27,
   "metadata": {},
   "outputs": [
    {
     "data": {
      "text/plain": [
       "5012"
      ]
     },
     "execution_count": 27,
     "metadata": {},
     "output_type": "execute_result"
    }
   ],
   "source": [
    "len(parser_all)"
   ]
  },
  {
   "cell_type": "code",
   "execution_count": 28,
   "metadata": {},
   "outputs": [],
   "source": [
    "data = reduce(lambda x,y : x+y, parser_all)"
   ]
  },
  {
   "cell_type": "code",
   "execution_count": 30,
   "metadata": {},
   "outputs": [
    {
     "data": {
      "text/plain": [
       "15663"
      ]
     },
     "execution_count": 30,
     "metadata": {},
     "output_type": "execute_result"
    }
   ],
   "source": [
    "len(data)"
   ]
  },
  {
   "cell_type": "code",
   "execution_count": 31,
   "metadata": {},
   "outputs": [],
   "source": [
    "df = pd.DataFrame(data, columns=['filename', 'width', 'height', 'name', 'xmin', 'xmax','ymin', 'ymax'])"
   ]
  },
  {
   "cell_type": "code",
   "execution_count": 32,
   "metadata": {},
   "outputs": [
    {
     "data": {
      "text/html": [
       "<div>\n",
       "<style scoped>\n",
       "    .dataframe tbody tr th:only-of-type {\n",
       "        vertical-align: middle;\n",
       "    }\n",
       "\n",
       "    .dataframe tbody tr th {\n",
       "        vertical-align: top;\n",
       "    }\n",
       "\n",
       "    .dataframe thead th {\n",
       "        text-align: right;\n",
       "    }\n",
       "</style>\n",
       "<table border=\"1\" class=\"dataframe\">\n",
       "  <thead>\n",
       "    <tr style=\"text-align: right;\">\n",
       "      <th></th>\n",
       "      <th>filename</th>\n",
       "      <th>width</th>\n",
       "      <th>height</th>\n",
       "      <th>name</th>\n",
       "      <th>xmin</th>\n",
       "      <th>xmax</th>\n",
       "      <th>ymin</th>\n",
       "      <th>ymax</th>\n",
       "    </tr>\n",
       "  </thead>\n",
       "  <tbody>\n",
       "    <tr>\n",
       "      <th>0</th>\n",
       "      <td>000001.jpg</td>\n",
       "      <td>1024</td>\n",
       "      <td>657</td>\n",
       "      <td>car</td>\n",
       "      <td>14</td>\n",
       "      <td>301</td>\n",
       "      <td>335</td>\n",
       "      <td>522</td>\n",
       "    </tr>\n",
       "    <tr>\n",
       "      <th>1</th>\n",
       "      <td>000001.jpg</td>\n",
       "      <td>1024</td>\n",
       "      <td>657</td>\n",
       "      <td>car</td>\n",
       "      <td>269</td>\n",
       "      <td>571</td>\n",
       "      <td>345</td>\n",
       "      <td>489</td>\n",
       "    </tr>\n",
       "    <tr>\n",
       "      <th>2</th>\n",
       "      <td>000001.jpg</td>\n",
       "      <td>1024</td>\n",
       "      <td>657</td>\n",
       "      <td>car</td>\n",
       "      <td>502</td>\n",
       "      <td>798</td>\n",
       "      <td>342</td>\n",
       "      <td>450</td>\n",
       "    </tr>\n",
       "    <tr>\n",
       "      <th>3</th>\n",
       "      <td>000001.jpg</td>\n",
       "      <td>1024</td>\n",
       "      <td>657</td>\n",
       "      <td>car</td>\n",
       "      <td>709</td>\n",
       "      <td>1009</td>\n",
       "      <td>333</td>\n",
       "      <td>438</td>\n",
       "    </tr>\n",
       "    <tr>\n",
       "      <th>4</th>\n",
       "      <td>000002.jpg</td>\n",
       "      <td>800</td>\n",
       "      <td>600</td>\n",
       "      <td>car</td>\n",
       "      <td>41</td>\n",
       "      <td>768</td>\n",
       "      <td>240</td>\n",
       "      <td>497</td>\n",
       "    </tr>\n",
       "  </tbody>\n",
       "</table>\n",
       "</div>"
      ],
      "text/plain": [
       "     filename width height name xmin  xmax ymin ymax\n",
       "0  000001.jpg  1024    657  car   14   301  335  522\n",
       "1  000001.jpg  1024    657  car  269   571  345  489\n",
       "2  000001.jpg  1024    657  car  502   798  342  450\n",
       "3  000001.jpg  1024    657  car  709  1009  333  438\n",
       "4  000002.jpg   800    600  car   41   768  240  497"
      ]
     },
     "execution_count": 32,
     "metadata": {},
     "output_type": "execute_result"
    }
   ],
   "source": [
    "df.head()"
   ]
  },
  {
   "cell_type": "code",
   "execution_count": 33,
   "metadata": {},
   "outputs": [
    {
     "data": {
      "text/plain": [
       "(15663, 8)"
      ]
     },
     "execution_count": 33,
     "metadata": {},
     "output_type": "execute_result"
    }
   ],
   "source": [
    "df.shape"
   ]
  },
  {
   "cell_type": "code",
   "execution_count": 34,
   "metadata": {},
   "outputs": [
    {
     "data": {
      "text/plain": [
       "name\n",
       "person         5447\n",
       "car            1650\n",
       "chair          1427\n",
       "bottle          634\n",
       "pottedplant     625\n",
       "bird            599\n",
       "dog             538\n",
       "sofa            425\n",
       "bicycle         418\n",
       "horse           406\n",
       "boat            398\n",
       "motorbike       390\n",
       "cat             389\n",
       "tvmonitor       367\n",
       "cow             356\n",
       "sheep           353\n",
       "aeroplane       331\n",
       "train           328\n",
       "diningtable     310\n",
       "bus             272\n",
       "Name: count, dtype: int64"
      ]
     },
     "execution_count": 34,
     "metadata": {},
     "output_type": "execute_result"
    }
   ],
   "source": [
    "df['name'].value_counts()"
   ]
  },
  {
   "cell_type": "code",
   "execution_count": 36,
   "metadata": {},
   "outputs": [
    {
     "name": "stdout",
     "output_type": "stream",
     "text": [
      "<class 'pandas.core.frame.DataFrame'>\n",
      "RangeIndex: 15663 entries, 0 to 15662\n",
      "Data columns (total 8 columns):\n",
      " #   Column    Non-Null Count  Dtype \n",
      "---  ------    --------------  ----- \n",
      " 0   filename  15663 non-null  object\n",
      " 1   width     15663 non-null  object\n",
      " 2   height    15663 non-null  object\n",
      " 3   name      15663 non-null  object\n",
      " 4   xmin      15663 non-null  object\n",
      " 5   xmax      15663 non-null  object\n",
      " 6   ymin      15663 non-null  object\n",
      " 7   ymax      15663 non-null  object\n",
      "dtypes: object(8)\n",
      "memory usage: 979.1+ KB\n"
     ]
    }
   ],
   "source": [
    "df.info()"
   ]
  },
  {
   "cell_type": "code",
   "execution_count": 37,
   "metadata": {},
   "outputs": [
    {
     "name": "stdout",
     "output_type": "stream",
     "text": [
      "<class 'pandas.core.frame.DataFrame'>\n",
      "RangeIndex: 15663 entries, 0 to 15662\n",
      "Data columns (total 8 columns):\n",
      " #   Column    Non-Null Count  Dtype \n",
      "---  ------    --------------  ----- \n",
      " 0   filename  15663 non-null  object\n",
      " 1   width     15663 non-null  int32 \n",
      " 2   height    15663 non-null  int32 \n",
      " 3   name      15663 non-null  object\n",
      " 4   xmin      15663 non-null  int32 \n",
      " 5   xmax      15663 non-null  int32 \n",
      " 6   ymin      15663 non-null  int32 \n",
      " 7   ymax      15663 non-null  int32 \n",
      "dtypes: int32(6), object(2)\n",
      "memory usage: 612.0+ KB\n"
     ]
    }
   ],
   "source": [
    "#type conversion\n",
    "cols = ['width','height','xmin','xmax','ymin','ymax']\n",
    "df[cols] = df[cols].astype(int)\n",
    "df.info()"
   ]
  },
  {
   "cell_type": "code",
   "execution_count": 38,
   "metadata": {},
   "outputs": [],
   "source": [
    "# center x, center y\n",
    "df[\"center_x\"] = ((df[\"xmax\"] + df[\"xmin\"]) / 2) / df[\"width\"]\n",
    "df[\"center_y\"] = ((df[\"ymax\"] + df[\"ymin\"]) / 2) / df[\"height\"]\n",
    "\n",
    "# w , h\n",
    "df[\"w\"] = (df[\"xmax\"] - df[\"xmin\"]) / df[\"width\"]\n",
    "df[\"h\"] = (df[\"ymax\"] - df[\"ymin\"]) / df[\"height\"]"
   ]
  },
  {
   "cell_type": "code",
   "execution_count": 39,
   "metadata": {},
   "outputs": [
    {
     "data": {
      "text/html": [
       "<div>\n",
       "<style scoped>\n",
       "    .dataframe tbody tr th:only-of-type {\n",
       "        vertical-align: middle;\n",
       "    }\n",
       "\n",
       "    .dataframe tbody tr th {\n",
       "        vertical-align: top;\n",
       "    }\n",
       "\n",
       "    .dataframe thead th {\n",
       "        text-align: right;\n",
       "    }\n",
       "</style>\n",
       "<table border=\"1\" class=\"dataframe\">\n",
       "  <thead>\n",
       "    <tr style=\"text-align: right;\">\n",
       "      <th></th>\n",
       "      <th>filename</th>\n",
       "      <th>width</th>\n",
       "      <th>height</th>\n",
       "      <th>name</th>\n",
       "      <th>xmin</th>\n",
       "      <th>xmax</th>\n",
       "      <th>ymin</th>\n",
       "      <th>ymax</th>\n",
       "      <th>center_x</th>\n",
       "      <th>center_y</th>\n",
       "      <th>w</th>\n",
       "      <th>h</th>\n",
       "    </tr>\n",
       "  </thead>\n",
       "  <tbody>\n",
       "    <tr>\n",
       "      <th>0</th>\n",
       "      <td>000001.jpg</td>\n",
       "      <td>1024</td>\n",
       "      <td>657</td>\n",
       "      <td>car</td>\n",
       "      <td>14</td>\n",
       "      <td>301</td>\n",
       "      <td>335</td>\n",
       "      <td>522</td>\n",
       "      <td>0.153809</td>\n",
       "      <td>0.652207</td>\n",
       "      <td>0.280273</td>\n",
       "      <td>0.284627</td>\n",
       "    </tr>\n",
       "    <tr>\n",
       "      <th>1</th>\n",
       "      <td>000001.jpg</td>\n",
       "      <td>1024</td>\n",
       "      <td>657</td>\n",
       "      <td>car</td>\n",
       "      <td>269</td>\n",
       "      <td>571</td>\n",
       "      <td>345</td>\n",
       "      <td>489</td>\n",
       "      <td>0.410156</td>\n",
       "      <td>0.634703</td>\n",
       "      <td>0.294922</td>\n",
       "      <td>0.219178</td>\n",
       "    </tr>\n",
       "    <tr>\n",
       "      <th>2</th>\n",
       "      <td>000001.jpg</td>\n",
       "      <td>1024</td>\n",
       "      <td>657</td>\n",
       "      <td>car</td>\n",
       "      <td>502</td>\n",
       "      <td>798</td>\n",
       "      <td>342</td>\n",
       "      <td>450</td>\n",
       "      <td>0.634766</td>\n",
       "      <td>0.602740</td>\n",
       "      <td>0.289062</td>\n",
       "      <td>0.164384</td>\n",
       "    </tr>\n",
       "    <tr>\n",
       "      <th>3</th>\n",
       "      <td>000001.jpg</td>\n",
       "      <td>1024</td>\n",
       "      <td>657</td>\n",
       "      <td>car</td>\n",
       "      <td>709</td>\n",
       "      <td>1009</td>\n",
       "      <td>333</td>\n",
       "      <td>438</td>\n",
       "      <td>0.838867</td>\n",
       "      <td>0.586758</td>\n",
       "      <td>0.292969</td>\n",
       "      <td>0.159817</td>\n",
       "    </tr>\n",
       "    <tr>\n",
       "      <th>4</th>\n",
       "      <td>000002.jpg</td>\n",
       "      <td>800</td>\n",
       "      <td>600</td>\n",
       "      <td>car</td>\n",
       "      <td>41</td>\n",
       "      <td>768</td>\n",
       "      <td>240</td>\n",
       "      <td>497</td>\n",
       "      <td>0.505625</td>\n",
       "      <td>0.614167</td>\n",
       "      <td>0.908750</td>\n",
       "      <td>0.428333</td>\n",
       "    </tr>\n",
       "  </tbody>\n",
       "</table>\n",
       "</div>"
      ],
      "text/plain": [
       "     filename  width  height name  xmin  xmax  ymin  ymax  center_x  center_y  \\\n",
       "0  000001.jpg   1024     657  car    14   301   335   522  0.153809  0.652207   \n",
       "1  000001.jpg   1024     657  car   269   571   345   489  0.410156  0.634703   \n",
       "2  000001.jpg   1024     657  car   502   798   342   450  0.634766  0.602740   \n",
       "3  000001.jpg   1024     657  car   709  1009   333   438  0.838867  0.586758   \n",
       "4  000002.jpg    800     600  car    41   768   240   497  0.505625  0.614167   \n",
       "\n",
       "          w         h  \n",
       "0  0.280273  0.284627  \n",
       "1  0.294922  0.219178  \n",
       "2  0.289062  0.164384  \n",
       "3  0.292969  0.159817  \n",
       "4  0.908750  0.428333  "
      ]
     },
     "execution_count": 39,
     "metadata": {},
     "output_type": "execute_result"
    }
   ],
   "source": [
    "df.head()"
   ]
  },
  {
   "cell_type": "code",
   "execution_count": 44,
   "metadata": {},
   "outputs": [],
   "source": [
    "images = df['filename'].unique()"
   ]
  },
  {
   "cell_type": "code",
   "execution_count": 48,
   "metadata": {},
   "outputs": [],
   "source": [
    "img_df = pd.DataFrame(images, columns=['filename'])\n",
    "img_train = tuple(img_df.sample(frac=0.8)['filename'])\n",
    "img_test = tuple(img_df.query(f\"filename not in {img_train}\")[\"filename\"])"
   ]
  },
  {
   "cell_type": "code",
   "execution_count": 49,
   "metadata": {},
   "outputs": [
    {
     "data": {
      "text/plain": [
       "(4010, 1002)"
      ]
     },
     "execution_count": 49,
     "metadata": {},
     "output_type": "execute_result"
    }
   ],
   "source": [
    "len(img_train), len(img_test)"
   ]
  },
  {
   "cell_type": "code",
   "execution_count": 50,
   "metadata": {},
   "outputs": [],
   "source": [
    "train_df = df.query(f'filename in {img_train}')\n",
    "test_df = df.query(f'filename in {img_test}')"
   ]
  },
  {
   "cell_type": "code",
   "execution_count": 51,
   "metadata": {},
   "outputs": [
    {
     "data": {
      "text/html": [
       "<div>\n",
       "<style scoped>\n",
       "    .dataframe tbody tr th:only-of-type {\n",
       "        vertical-align: middle;\n",
       "    }\n",
       "\n",
       "    .dataframe tbody tr th {\n",
       "        vertical-align: top;\n",
       "    }\n",
       "\n",
       "    .dataframe thead th {\n",
       "        text-align: right;\n",
       "    }\n",
       "</style>\n",
       "<table border=\"1\" class=\"dataframe\">\n",
       "  <thead>\n",
       "    <tr style=\"text-align: right;\">\n",
       "      <th></th>\n",
       "      <th>filename</th>\n",
       "      <th>width</th>\n",
       "      <th>height</th>\n",
       "      <th>name</th>\n",
       "      <th>xmin</th>\n",
       "      <th>xmax</th>\n",
       "      <th>ymin</th>\n",
       "      <th>ymax</th>\n",
       "      <th>center_x</th>\n",
       "      <th>center_y</th>\n",
       "      <th>w</th>\n",
       "      <th>h</th>\n",
       "    </tr>\n",
       "  </thead>\n",
       "  <tbody>\n",
       "    <tr>\n",
       "      <th>6</th>\n",
       "      <td>000007.jpg</td>\n",
       "      <td>500</td>\n",
       "      <td>333</td>\n",
       "      <td>car</td>\n",
       "      <td>141</td>\n",
       "      <td>500</td>\n",
       "      <td>50</td>\n",
       "      <td>330</td>\n",
       "      <td>0.641000</td>\n",
       "      <td>0.570571</td>\n",
       "      <td>0.718000</td>\n",
       "      <td>0.840841</td>\n",
       "    </tr>\n",
       "    <tr>\n",
       "      <th>12</th>\n",
       "      <td>000016.jpg</td>\n",
       "      <td>334</td>\n",
       "      <td>500</td>\n",
       "      <td>bicycle</td>\n",
       "      <td>92</td>\n",
       "      <td>305</td>\n",
       "      <td>72</td>\n",
       "      <td>473</td>\n",
       "      <td>0.594311</td>\n",
       "      <td>0.545000</td>\n",
       "      <td>0.637725</td>\n",
       "      <td>0.802000</td>\n",
       "    </tr>\n",
       "    <tr>\n",
       "      <th>13</th>\n",
       "      <td>000017.jpg</td>\n",
       "      <td>480</td>\n",
       "      <td>364</td>\n",
       "      <td>person</td>\n",
       "      <td>185</td>\n",
       "      <td>279</td>\n",
       "      <td>62</td>\n",
       "      <td>199</td>\n",
       "      <td>0.483333</td>\n",
       "      <td>0.358516</td>\n",
       "      <td>0.195833</td>\n",
       "      <td>0.376374</td>\n",
       "    </tr>\n",
       "    <tr>\n",
       "      <th>14</th>\n",
       "      <td>000017.jpg</td>\n",
       "      <td>480</td>\n",
       "      <td>364</td>\n",
       "      <td>horse</td>\n",
       "      <td>90</td>\n",
       "      <td>403</td>\n",
       "      <td>78</td>\n",
       "      <td>336</td>\n",
       "      <td>0.513542</td>\n",
       "      <td>0.568681</td>\n",
       "      <td>0.652083</td>\n",
       "      <td>0.708791</td>\n",
       "    </tr>\n",
       "    <tr>\n",
       "      <th>15</th>\n",
       "      <td>000019.jpg</td>\n",
       "      <td>500</td>\n",
       "      <td>375</td>\n",
       "      <td>cat</td>\n",
       "      <td>231</td>\n",
       "      <td>483</td>\n",
       "      <td>88</td>\n",
       "      <td>256</td>\n",
       "      <td>0.714000</td>\n",
       "      <td>0.458667</td>\n",
       "      <td>0.504000</td>\n",
       "      <td>0.448000</td>\n",
       "    </tr>\n",
       "  </tbody>\n",
       "</table>\n",
       "</div>"
      ],
      "text/plain": [
       "      filename  width  height     name  xmin  xmax  ymin  ymax  center_x  \\\n",
       "6   000007.jpg    500     333      car   141   500    50   330  0.641000   \n",
       "12  000016.jpg    334     500  bicycle    92   305    72   473  0.594311   \n",
       "13  000017.jpg    480     364   person   185   279    62   199  0.483333   \n",
       "14  000017.jpg    480     364    horse    90   403    78   336  0.513542   \n",
       "15  000019.jpg    500     375      cat   231   483    88   256  0.714000   \n",
       "\n",
       "    center_y         w         h  \n",
       "6   0.570571  0.718000  0.840841  \n",
       "12  0.545000  0.637725  0.802000  \n",
       "13  0.358516  0.195833  0.376374  \n",
       "14  0.568681  0.652083  0.708791  \n",
       "15  0.458667  0.504000  0.448000  "
      ]
     },
     "execution_count": 51,
     "metadata": {},
     "output_type": "execute_result"
    }
   ],
   "source": [
    "train_df.head()"
   ]
  },
  {
   "cell_type": "code",
   "execution_count": 52,
   "metadata": {},
   "outputs": [
    {
     "data": {
      "text/html": [
       "<div>\n",
       "<style scoped>\n",
       "    .dataframe tbody tr th:only-of-type {\n",
       "        vertical-align: middle;\n",
       "    }\n",
       "\n",
       "    .dataframe tbody tr th {\n",
       "        vertical-align: top;\n",
       "    }\n",
       "\n",
       "    .dataframe thead th {\n",
       "        text-align: right;\n",
       "    }\n",
       "</style>\n",
       "<table border=\"1\" class=\"dataframe\">\n",
       "  <thead>\n",
       "    <tr style=\"text-align: right;\">\n",
       "      <th></th>\n",
       "      <th>filename</th>\n",
       "      <th>width</th>\n",
       "      <th>height</th>\n",
       "      <th>name</th>\n",
       "      <th>xmin</th>\n",
       "      <th>xmax</th>\n",
       "      <th>ymin</th>\n",
       "      <th>ymax</th>\n",
       "      <th>center_x</th>\n",
       "      <th>center_y</th>\n",
       "      <th>w</th>\n",
       "      <th>h</th>\n",
       "    </tr>\n",
       "  </thead>\n",
       "  <tbody>\n",
       "    <tr>\n",
       "      <th>0</th>\n",
       "      <td>000001.jpg</td>\n",
       "      <td>1024</td>\n",
       "      <td>657</td>\n",
       "      <td>car</td>\n",
       "      <td>14</td>\n",
       "      <td>301</td>\n",
       "      <td>335</td>\n",
       "      <td>522</td>\n",
       "      <td>0.153809</td>\n",
       "      <td>0.652207</td>\n",
       "      <td>0.280273</td>\n",
       "      <td>0.284627</td>\n",
       "    </tr>\n",
       "    <tr>\n",
       "      <th>1</th>\n",
       "      <td>000001.jpg</td>\n",
       "      <td>1024</td>\n",
       "      <td>657</td>\n",
       "      <td>car</td>\n",
       "      <td>269</td>\n",
       "      <td>571</td>\n",
       "      <td>345</td>\n",
       "      <td>489</td>\n",
       "      <td>0.410156</td>\n",
       "      <td>0.634703</td>\n",
       "      <td>0.294922</td>\n",
       "      <td>0.219178</td>\n",
       "    </tr>\n",
       "    <tr>\n",
       "      <th>2</th>\n",
       "      <td>000001.jpg</td>\n",
       "      <td>1024</td>\n",
       "      <td>657</td>\n",
       "      <td>car</td>\n",
       "      <td>502</td>\n",
       "      <td>798</td>\n",
       "      <td>342</td>\n",
       "      <td>450</td>\n",
       "      <td>0.634766</td>\n",
       "      <td>0.602740</td>\n",
       "      <td>0.289062</td>\n",
       "      <td>0.164384</td>\n",
       "    </tr>\n",
       "    <tr>\n",
       "      <th>3</th>\n",
       "      <td>000001.jpg</td>\n",
       "      <td>1024</td>\n",
       "      <td>657</td>\n",
       "      <td>car</td>\n",
       "      <td>709</td>\n",
       "      <td>1009</td>\n",
       "      <td>333</td>\n",
       "      <td>438</td>\n",
       "      <td>0.838867</td>\n",
       "      <td>0.586758</td>\n",
       "      <td>0.292969</td>\n",
       "      <td>0.159817</td>\n",
       "    </tr>\n",
       "    <tr>\n",
       "      <th>4</th>\n",
       "      <td>000002.jpg</td>\n",
       "      <td>800</td>\n",
       "      <td>600</td>\n",
       "      <td>car</td>\n",
       "      <td>41</td>\n",
       "      <td>768</td>\n",
       "      <td>240</td>\n",
       "      <td>497</td>\n",
       "      <td>0.505625</td>\n",
       "      <td>0.614167</td>\n",
       "      <td>0.908750</td>\n",
       "      <td>0.428333</td>\n",
       "    </tr>\n",
       "  </tbody>\n",
       "</table>\n",
       "</div>"
      ],
      "text/plain": [
       "     filename  width  height name  xmin  xmax  ymin  ymax  center_x  center_y  \\\n",
       "0  000001.jpg   1024     657  car    14   301   335   522  0.153809  0.652207   \n",
       "1  000001.jpg   1024     657  car   269   571   345   489  0.410156  0.634703   \n",
       "2  000001.jpg   1024     657  car   502   798   342   450  0.634766  0.602740   \n",
       "3  000001.jpg   1024     657  car   709  1009   333   438  0.838867  0.586758   \n",
       "4  000002.jpg    800     600  car    41   768   240   497  0.505625  0.614167   \n",
       "\n",
       "          w         h  \n",
       "0  0.280273  0.284627  \n",
       "1  0.294922  0.219178  \n",
       "2  0.289062  0.164384  \n",
       "3  0.292969  0.159817  \n",
       "4  0.908750  0.428333  "
      ]
     },
     "execution_count": 52,
     "metadata": {},
     "output_type": "execute_result"
    }
   ],
   "source": [
    "test_df.head()"
   ]
  },
  {
   "cell_type": "code",
   "execution_count": 61,
   "metadata": {},
   "outputs": [],
   "source": [
    "labels = {}\n",
    "for i , label in enumerate(df['name'].unique()):\n",
    "    labels.update({label:i})\n",
    "\n",
    "def label_encoding(x):\n",
    "    return labels[x]"
   ]
  },
  {
   "cell_type": "code",
   "execution_count": 63,
   "metadata": {},
   "outputs": [],
   "source": [
    "train_df.loc[:, \"id\"] = train_df[\"name\"].apply(label_encoding)\n",
    "test_df.loc[:, \"id\"] = test_df[\"name\"].apply(label_encoding)"
   ]
  },
  {
   "cell_type": "code",
   "execution_count": 64,
   "metadata": {},
   "outputs": [
    {
     "data": {
      "text/html": [
       "<div>\n",
       "<style scoped>\n",
       "    .dataframe tbody tr th:only-of-type {\n",
       "        vertical-align: middle;\n",
       "    }\n",
       "\n",
       "    .dataframe tbody tr th {\n",
       "        vertical-align: top;\n",
       "    }\n",
       "\n",
       "    .dataframe thead th {\n",
       "        text-align: right;\n",
       "    }\n",
       "</style>\n",
       "<table border=\"1\" class=\"dataframe\">\n",
       "  <thead>\n",
       "    <tr style=\"text-align: right;\">\n",
       "      <th></th>\n",
       "      <th>filename</th>\n",
       "      <th>width</th>\n",
       "      <th>height</th>\n",
       "      <th>name</th>\n",
       "      <th>xmin</th>\n",
       "      <th>xmax</th>\n",
       "      <th>ymin</th>\n",
       "      <th>ymax</th>\n",
       "      <th>center_x</th>\n",
       "      <th>center_y</th>\n",
       "      <th>w</th>\n",
       "      <th>h</th>\n",
       "      <th>id</th>\n",
       "    </tr>\n",
       "  </thead>\n",
       "  <tbody>\n",
       "    <tr>\n",
       "      <th>6</th>\n",
       "      <td>000007.jpg</td>\n",
       "      <td>500</td>\n",
       "      <td>333</td>\n",
       "      <td>car</td>\n",
       "      <td>141</td>\n",
       "      <td>500</td>\n",
       "      <td>50</td>\n",
       "      <td>330</td>\n",
       "      <td>0.641000</td>\n",
       "      <td>0.570571</td>\n",
       "      <td>0.718000</td>\n",
       "      <td>0.840841</td>\n",
       "      <td>0</td>\n",
       "    </tr>\n",
       "    <tr>\n",
       "      <th>12</th>\n",
       "      <td>000016.jpg</td>\n",
       "      <td>334</td>\n",
       "      <td>500</td>\n",
       "      <td>bicycle</td>\n",
       "      <td>92</td>\n",
       "      <td>305</td>\n",
       "      <td>72</td>\n",
       "      <td>473</td>\n",
       "      <td>0.594311</td>\n",
       "      <td>0.545000</td>\n",
       "      <td>0.637725</td>\n",
       "      <td>0.802000</td>\n",
       "      <td>3</td>\n",
       "    </tr>\n",
       "    <tr>\n",
       "      <th>13</th>\n",
       "      <td>000017.jpg</td>\n",
       "      <td>480</td>\n",
       "      <td>364</td>\n",
       "      <td>person</td>\n",
       "      <td>185</td>\n",
       "      <td>279</td>\n",
       "      <td>62</td>\n",
       "      <td>199</td>\n",
       "      <td>0.483333</td>\n",
       "      <td>0.358516</td>\n",
       "      <td>0.195833</td>\n",
       "      <td>0.376374</td>\n",
       "      <td>2</td>\n",
       "    </tr>\n",
       "    <tr>\n",
       "      <th>14</th>\n",
       "      <td>000017.jpg</td>\n",
       "      <td>480</td>\n",
       "      <td>364</td>\n",
       "      <td>horse</td>\n",
       "      <td>90</td>\n",
       "      <td>403</td>\n",
       "      <td>78</td>\n",
       "      <td>336</td>\n",
       "      <td>0.513542</td>\n",
       "      <td>0.568681</td>\n",
       "      <td>0.652083</td>\n",
       "      <td>0.708791</td>\n",
       "      <td>1</td>\n",
       "    </tr>\n",
       "    <tr>\n",
       "      <th>15</th>\n",
       "      <td>000019.jpg</td>\n",
       "      <td>500</td>\n",
       "      <td>375</td>\n",
       "      <td>cat</td>\n",
       "      <td>231</td>\n",
       "      <td>483</td>\n",
       "      <td>88</td>\n",
       "      <td>256</td>\n",
       "      <td>0.714000</td>\n",
       "      <td>0.458667</td>\n",
       "      <td>0.504000</td>\n",
       "      <td>0.448000</td>\n",
       "      <td>4</td>\n",
       "    </tr>\n",
       "    <tr>\n",
       "      <th>16</th>\n",
       "      <td>000019.jpg</td>\n",
       "      <td>500</td>\n",
       "      <td>375</td>\n",
       "      <td>cat</td>\n",
       "      <td>11</td>\n",
       "      <td>266</td>\n",
       "      <td>113</td>\n",
       "      <td>259</td>\n",
       "      <td>0.277000</td>\n",
       "      <td>0.496000</td>\n",
       "      <td>0.510000</td>\n",
       "      <td>0.389333</td>\n",
       "      <td>4</td>\n",
       "    </tr>\n",
       "    <tr>\n",
       "      <th>17</th>\n",
       "      <td>000020.jpg</td>\n",
       "      <td>375</td>\n",
       "      <td>500</td>\n",
       "      <td>car</td>\n",
       "      <td>33</td>\n",
       "      <td>371</td>\n",
       "      <td>148</td>\n",
       "      <td>416</td>\n",
       "      <td>0.538667</td>\n",
       "      <td>0.564000</td>\n",
       "      <td>0.901333</td>\n",
       "      <td>0.536000</td>\n",
       "      <td>0</td>\n",
       "    </tr>\n",
       "    <tr>\n",
       "      <th>18</th>\n",
       "      <td>000021.jpg</td>\n",
       "      <td>336</td>\n",
       "      <td>500</td>\n",
       "      <td>dog</td>\n",
       "      <td>1</td>\n",
       "      <td>182</td>\n",
       "      <td>235</td>\n",
       "      <td>388</td>\n",
       "      <td>0.272321</td>\n",
       "      <td>0.623000</td>\n",
       "      <td>0.538690</td>\n",
       "      <td>0.306000</td>\n",
       "      <td>5</td>\n",
       "    </tr>\n",
       "    <tr>\n",
       "      <th>19</th>\n",
       "      <td>000021.jpg</td>\n",
       "      <td>336</td>\n",
       "      <td>500</td>\n",
       "      <td>person</td>\n",
       "      <td>210</td>\n",
       "      <td>336</td>\n",
       "      <td>36</td>\n",
       "      <td>482</td>\n",
       "      <td>0.812500</td>\n",
       "      <td>0.518000</td>\n",
       "      <td>0.375000</td>\n",
       "      <td>0.892000</td>\n",
       "      <td>2</td>\n",
       "    </tr>\n",
       "    <tr>\n",
       "      <th>20</th>\n",
       "      <td>000021.jpg</td>\n",
       "      <td>336</td>\n",
       "      <td>500</td>\n",
       "      <td>person</td>\n",
       "      <td>46</td>\n",
       "      <td>170</td>\n",
       "      <td>82</td>\n",
       "      <td>365</td>\n",
       "      <td>0.321429</td>\n",
       "      <td>0.447000</td>\n",
       "      <td>0.369048</td>\n",
       "      <td>0.566000</td>\n",
       "      <td>2</td>\n",
       "    </tr>\n",
       "  </tbody>\n",
       "</table>\n",
       "</div>"
      ],
      "text/plain": [
       "      filename  width  height     name  xmin  xmax  ymin  ymax  center_x  \\\n",
       "6   000007.jpg    500     333      car   141   500    50   330  0.641000   \n",
       "12  000016.jpg    334     500  bicycle    92   305    72   473  0.594311   \n",
       "13  000017.jpg    480     364   person   185   279    62   199  0.483333   \n",
       "14  000017.jpg    480     364    horse    90   403    78   336  0.513542   \n",
       "15  000019.jpg    500     375      cat   231   483    88   256  0.714000   \n",
       "16  000019.jpg    500     375      cat    11   266   113   259  0.277000   \n",
       "17  000020.jpg    375     500      car    33   371   148   416  0.538667   \n",
       "18  000021.jpg    336     500      dog     1   182   235   388  0.272321   \n",
       "19  000021.jpg    336     500   person   210   336    36   482  0.812500   \n",
       "20  000021.jpg    336     500   person    46   170    82   365  0.321429   \n",
       "\n",
       "    center_y         w         h  id  \n",
       "6   0.570571  0.718000  0.840841   0  \n",
       "12  0.545000  0.637725  0.802000   3  \n",
       "13  0.358516  0.195833  0.376374   2  \n",
       "14  0.568681  0.652083  0.708791   1  \n",
       "15  0.458667  0.504000  0.448000   4  \n",
       "16  0.496000  0.510000  0.389333   4  \n",
       "17  0.564000  0.901333  0.536000   0  \n",
       "18  0.623000  0.538690  0.306000   5  \n",
       "19  0.518000  0.375000  0.892000   2  \n",
       "20  0.447000  0.369048  0.566000   2  "
      ]
     },
     "execution_count": 64,
     "metadata": {},
     "output_type": "execute_result"
    }
   ],
   "source": [
    "train_df.head(10)"
   ]
  },
  {
   "cell_type": "markdown",
   "metadata": {},
   "source": [
    "Save Image and label as text"
   ]
  },
  {
   "cell_type": "code",
   "execution_count": 65,
   "metadata": {},
   "outputs": [],
   "source": [
    "import os\n",
    "from shutil import move"
   ]
  },
  {
   "cell_type": "code",
   "execution_count": 73,
   "metadata": {},
   "outputs": [],
   "source": [
    "train_folder = \"./images/data_images/train\"\n",
    "test_folder = \"./images/data_images/test\"\n",
    "\n",
    "os.makedirs(train_folder, exist_ok=True)\n",
    "os.makedirs(test_folder, exist_ok= True)"
   ]
  },
  {
   "cell_type": "code",
   "execution_count": 74,
   "metadata": {},
   "outputs": [],
   "source": [
    "cols = ['filename','id','center_x','center_y','w','h']\n",
    "groupby_obj_train = train_df[cols].groupby('filename')\n",
    "groupby_obj_test = test_df[cols].groupby(\"filename\")"
   ]
  },
  {
   "cell_type": "code",
   "execution_count": 89,
   "metadata": {},
   "outputs": [],
   "source": [
    "def save_data(filename, folder_path, groupby_obj):\n",
    "    src = os.path.join(\"images/data_images\", filename)\n",
    "    dst = os.path.join(folder_path, filename)\n",
    "    move(src, dst)\n",
    "\n",
    "    # save the labels\n",
    "    text_filename = os.path.join(folder_path, os.path.splitext(filename)[0] + \".txt\")\n",
    "    groupby_obj.get_group(filename).set_index(\"filename\").to_csv(\n",
    "        text_filename, sep=\" \", index=False, header=False\n",
    "    )"
   ]
  },
  {
   "cell_type": "code",
   "execution_count": 90,
   "metadata": {},
   "outputs": [],
   "source": [
    "filename_series = pd.Series(groupby_obj_train.groups.keys())"
   ]
  },
  {
   "cell_type": "code",
   "execution_count": 93,
   "metadata": {},
   "outputs": [
    {
     "data": {
      "text/plain": [
       "0       None\n",
       "1       None\n",
       "2       None\n",
       "3       None\n",
       "4       None\n",
       "        ... \n",
       "4005    None\n",
       "4006    None\n",
       "4007    None\n",
       "4008    None\n",
       "4009    None\n",
       "Length: 4010, dtype: object"
      ]
     },
     "execution_count": 93,
     "metadata": {},
     "output_type": "execute_result"
    }
   ],
   "source": [
    "filename_series.apply(save_data, args=(train_folder, groupby_obj_train))"
   ]
  },
  {
   "cell_type": "code",
   "execution_count": 95,
   "metadata": {},
   "outputs": [
    {
     "data": {
      "text/plain": [
       "0       None\n",
       "1       None\n",
       "2       None\n",
       "3       None\n",
       "4       None\n",
       "        ... \n",
       "997     None\n",
       "998     None\n",
       "999     None\n",
       "1000    None\n",
       "1001    None\n",
       "Length: 1002, dtype: object"
      ]
     },
     "execution_count": 95,
     "metadata": {},
     "output_type": "execute_result"
    }
   ],
   "source": [
    "filename_series_test = pd.Series(groupby_obj_test.groups.keys())\n",
    "filename_series_test.apply(save_data, args=(test_folder, groupby_obj_test))"
   ]
  },
  {
   "cell_type": "code",
   "execution_count": null,
   "metadata": {},
   "outputs": [],
   "source": []
  }
 ],
 "metadata": {
  "kernelspec": {
   "display_name": ".venv",
   "language": "python",
   "name": "python3"
  },
  "language_info": {
   "codemirror_mode": {
    "name": "ipython",
    "version": 3
   },
   "file_extension": ".py",
   "mimetype": "text/x-python",
   "name": "python",
   "nbconvert_exporter": "python",
   "pygments_lexer": "ipython3",
   "version": "3.12.1"
  }
 },
 "nbformat": 4,
 "nbformat_minor": 2
}
